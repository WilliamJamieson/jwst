{
 "cells": [
  {
   "cell_type": "code",
   "execution_count": 1,
   "id": "e4acb850-dc36-46e2-9ad0-f530adec472a",
   "metadata": {},
   "outputs": [],
   "source": [
    "import numpy as np\n",
    "from jwst.residual_fringe.fourier import FourierSeries1D"
   ]
  },
  {
   "cell_type": "code",
   "execution_count": 2,
   "id": "eb2285a1-9a23-41ae-87d3-883308a272a6",
   "metadata": {},
   "outputs": [],
   "source": [
    "frequencies = [0.25, 0.5]\n",
    "mdl = FourierSeries1D(frequencies)\n",
    "mdl.a0.value = 6\n",
    "mdl.a1.value = 7\n",
    "mdl.b0.value = 8\n",
    "mdl.b1.value = 9"
   ]
  },
  {
   "cell_type": "code",
   "execution_count": 3,
   "id": "e1783e06-1719-40a7-ad03-01d548f361f3",
   "metadata": {},
   "outputs": [
    {
     "name": "stdout",
     "output_type": "stream",
     "text": [
      "Model: FourierSeries1D\n",
      "Inputs: ('x',)\n",
      "Outputs: ('y',)\n",
      "Model set size: 1\n",
      "Parameters:\n",
      "     a0  b0  a1  b1\n",
      "    --- --- --- ---\n",
      "    6.0 8.0 7.0 9.0\n"
     ]
    }
   ],
   "source": [
    "print(mdl)"
   ]
  },
  {
   "cell_type": "code",
   "execution_count": 4,
   "id": "798a4666-1a15-4a13-8ddf-c8430e1c3e61",
   "metadata": {},
   "outputs": [
    {
     "name": "stdout",
     "output_type": "stream",
     "text": [
      "-2.999999999999999\n"
     ]
    }
   ],
   "source": [
    "print(mdl(1))"
   ]
  },
  {
   "cell_type": "code",
   "execution_count": 5,
   "id": "f75bccd6-787e-4dc0-88b9-448a5c0eda2f",
   "metadata": {},
   "outputs": [
    {
     "data": {
      "text/plain": [
       "-2.9999999999999982"
      ]
     },
     "execution_count": 5,
     "metadata": {},
     "output_type": "execute_result"
    }
   ],
   "source": [
    "6*np.sin(2*np.pi*0.25) + 8*np.cos(2*np.pi*0.25) + 7 * np.sin(2*np.pi*0.5) + 9 * np.cos(2*np.pi*0.5)"
   ]
  },
  {
   "cell_type": "code",
   "execution_count": 6,
   "id": "d9d10fe2-b0ab-46c6-bd20-edac482c5367",
   "metadata": {},
   "outputs": [
    {
     "data": {
      "text/plain": [
       "[1.2246467991473532e-16, -1.0, -2.4492935982947064e-16, 1.0]"
      ]
     },
     "execution_count": 6,
     "metadata": {},
     "output_type": "execute_result"
    }
   ],
   "source": [
    "mdl.fit_deriv(2)"
   ]
  },
  {
   "cell_type": "code",
   "execution_count": 7,
   "id": "bce6f226-135a-42a1-819e-d845fa7e65f8",
   "metadata": {},
   "outputs": [
    {
     "data": {
      "text/plain": [
       "[1.2246467991473532e-16, -1.0, -2.4492935982947064e-16, 1.0]"
      ]
     },
     "execution_count": 7,
     "metadata": {},
     "output_type": "execute_result"
    }
   ],
   "source": [
    "[np.sin(2*np.pi*0.25*2), np.cos(2*np.pi*0.25*2), np.sin(2*np.pi*0.5*2), np.cos(2*np.pi*0.5*2)]"
   ]
  },
  {
   "cell_type": "code",
   "execution_count": 8,
   "id": "dc5655d4-abe0-469c-9b9d-da0106d88e72",
   "metadata": {},
   "outputs": [],
   "source": [
    "from jwst.residual_fringe.fitter import ChiSqOutlierRejectionFitter\n",
    "from astropy.modeling.fitting import LevMarLSQFitter"
   ]
  },
  {
   "cell_type": "code",
   "execution_count": 9,
   "id": "58e095e7-3120-4bca-999f-a5acfc8f9136",
   "metadata": {},
   "outputs": [],
   "source": [
    "fitter = ChiSqOutlierRejectionFitter(LevMarLSQFitter())"
   ]
  },
  {
   "cell_type": "code",
   "execution_count": 10,
   "id": "378e8db3-4f89-4ce4-a0da-4d62d64a72c4",
   "metadata": {},
   "outputs": [
    {
     "name": "stdout",
     "output_type": "stream",
     "text": [
      "[0.  0.5 1. ]\n"
     ]
    }
   ],
   "source": [
    "x = np.linspace(0, 1, 3)\n",
    "print(x)"
   ]
  },
  {
   "cell_type": "code",
   "execution_count": 11,
   "id": "373642ec-2a80-47a5-bb2b-f3dfe8a09917",
   "metadata": {},
   "outputs": [
    {
     "data": {
      "text/plain": [
       "[array([0.        , 0.70710678, 1.        ]),\n",
       " array([1.00000000e+00, 7.07106781e-01, 6.12323400e-17]),\n",
       " array([0.0000000e+00, 1.0000000e+00, 1.2246468e-16]),\n",
       " array([ 1.000000e+00,  6.123234e-17, -1.000000e+00])]"
      ]
     },
     "execution_count": 11,
     "metadata": {},
     "output_type": "execute_result"
    }
   ],
   "source": [
    "mdl.fit_deriv(x)"
   ]
  },
  {
   "cell_type": "code",
   "execution_count": 12,
   "id": "ddbc7360-37e3-447a-9a20-ebae48e50e3a",
   "metadata": {},
   "outputs": [
    {
     "data": {
      "text/plain": [
       "array([0.        , 0.70710678, 1.        ])"
      ]
     },
     "execution_count": 12,
     "metadata": {},
     "output_type": "execute_result"
    }
   ],
   "source": [
    "fitter._jacobian(mdl, x)"
   ]
  },
  {
   "cell_type": "code",
   "execution_count": null,
   "id": "d09368d3-0d1e-4385-bde1-7555f358c035",
   "metadata": {},
   "outputs": [],
   "source": []
  }
 ],
 "metadata": {
  "kernelspec": {
   "display_name": "Python 3 (ipykernel)",
   "language": "python",
   "name": "python3"
  },
  "language_info": {
   "codemirror_mode": {
    "name": "ipython",
    "version": 3
   },
   "file_extension": ".py",
   "mimetype": "text/x-python",
   "name": "python",
   "nbconvert_exporter": "python",
   "pygments_lexer": "ipython3",
   "version": "3.9.9"
  }
 },
 "nbformat": 4,
 "nbformat_minor": 5
}
